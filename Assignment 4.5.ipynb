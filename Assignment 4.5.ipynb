{
 "cells": [
  {
   "cell_type": "markdown",
   "metadata": {},
   "source": [
    "## <u>Question :-</u>"
   ]
  },
  {
   "cell_type": "markdown",
   "metadata": {},
   "source": [
    "In one state, 52% of the voters are Republicans, and 48% are Democrats. In a second state, 47% of the voters are Republicans, and 53% are Democrats. Suppose a simple random sample of 100 voters are surveyed from each state. What is the probability that the survey will show a greater percentage of Republican voters in the second state than in the first state?"
   ]
  },
  {
   "cell_type": "markdown",
   "metadata": {},
   "source": [
    "## <u>Answer :-</u>"
   ]
  },
  {
   "cell_type": "markdown",
   "metadata": {},
   "source": [
    "This is the question of statistical inferences concerning the differences in population percents.<br>\n",
    "Let<br>\n",
    "$p_1, p_2 =$ Proportion of republican voters in total population of state 1 and state 2 respectively.<br>\n",
    "    &emsp; &emsp; &emsp; &emsp; given $p_1 = 0.52$,  $p_2 = 0.47$"
   ]
  },
  {
   "cell_type": "markdown",
   "metadata": {},
   "source": [
    "$n_1, n_2 = $ Size of samples drawn from state 1 and state 2 respectively.<br>\n",
    "    &emsp; &emsp; &emsp; &emsp; given $n_1 = n_2 = 100$"
   ]
  },
  {
   "cell_type": "markdown",
   "metadata": {},
   "source": [
    "$\\bar p_1, \\bar p_2 = $ Proportion of republican voteres in samples taken out from state 1 and state 2 respectively."
   ]
  },
  {
   "cell_type": "markdown",
   "metadata": {},
   "source": [
    "***\n",
    "Taking difference of proportions :-\n",
    "$$E(\\bar p_1 - \\bar p_2) = p_1 - p_2$$\n",
    "        $$= 0.52 - 0.47$$\n",
    "        $$= 0.05$$"
   ]
  },
  {
   "cell_type": "markdown",
   "metadata": {},
   "source": [
    "$$\\sigma_{(P_1 - P_2)} = \\sqrt{\\frac{p_1.q_1}{n_1} + \\frac{p_2.q_2}{n_2}}$$\n",
    "        $$= \\sqrt{\\frac{0.52.0.48}{100} + \\frac{0.47.0.53}{100}}$$\n",
    "        $$= 0.0706$$"
   ]
  },
  {
   "cell_type": "markdown",
   "metadata": {},
   "source": [
    "probability that $\\bar p_1$ is less than $\\bar p_2$ is equivalent to probability that $(\\bar p_1 - \\bar p_2)$ is less than zero."
   ]
  },
  {
   "cell_type": "markdown",
   "metadata": {},
   "source": [
    "Converting Normal distribution to Standard Normal distribution.\n",
    "$$Z \\lt \\frac{X - \\mu}{\\sigma}$$\n",
    "    $$ \\lt \\frac{0 - 0.005}{0.0706}$$\n",
    "    $$ \\lt -0.7082$$"
   ]
  },
  {
   "cell_type": "markdown",
   "metadata": {},
   "source": [
    "thus for ${\\bar p_1 \\lt \\bar p_2}$\n",
    "$$p(Z) \\lt -0.7082$$"
   ]
  },
  {
   "cell_type": "markdown",
   "metadata": {},
   "source": [
    "it is same as \n",
    "$$p(Z) \\ge 0.7082$$\n",
    "$$= (1 - 0.7580)$$\n",
    "$$= 0.242$$"
   ]
  },
  {
   "cell_type": "markdown",
   "metadata": {},
   "source": [
    "thus probability of $(\\bar p_2 \\ge \\bar p_1)$ is $0.242$"
   ]
  },
  {
   "cell_type": "code",
   "execution_count": null,
   "metadata": {
    "collapsed": true
   },
   "outputs": [],
   "source": []
  }
 ],
 "metadata": {
  "kernelspec": {
   "display_name": "Python 3",
   "language": "python",
   "name": "python3"
  },
  "language_info": {
   "codemirror_mode": {
    "name": "ipython",
    "version": 3
   },
   "file_extension": ".py",
   "mimetype": "text/x-python",
   "name": "python",
   "nbconvert_exporter": "python",
   "pygments_lexer": "ipython3",
   "version": "3.6.3"
  }
 },
 "nbformat": 4,
 "nbformat_minor": 2
}
